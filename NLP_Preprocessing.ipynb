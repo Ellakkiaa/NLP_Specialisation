{
  "nbformat": 4,
  "nbformat_minor": 0,
  "metadata": {
    "colab": {
      "provenance": []
    },
    "kernelspec": {
      "name": "python3",
      "display_name": "Python 3"
    },
    "language_info": {
      "name": "python"
    }
  },
  "cells": [
    {
      "cell_type": "code",
      "execution_count": null,
      "metadata": {
        "id": "PS5qLhH1drSW"
      },
      "outputs": [],
      "source": [
        "import nltk\n",
        "from nltk.corpus import twitter_samples\n",
        "import matplotlib.pyplot as plt\n",
        "import random"
      ]
    },
    {
      "cell_type": "code",
      "source": [
        "nltk.download('twitter_samples')"
      ],
      "metadata": {
        "colab": {
          "base_uri": "https://localhost:8080/"
        },
        "id": "RQIm_Vpyd5kK",
        "outputId": "33b2841a-6403-4aa6-ab05-61e03e36c781"
      },
      "execution_count": null,
      "outputs": [
        {
          "output_type": "stream",
          "name": "stderr",
          "text": [
            "[nltk_data] Downloading package twitter_samples to /root/nltk_data...\n",
            "[nltk_data]   Package twitter_samples is already up-to-date!\n"
          ]
        },
        {
          "output_type": "execute_result",
          "data": {
            "text/plain": [
              "True"
            ]
          },
          "metadata": {},
          "execution_count": 45
        }
      ]
    },
    {
      "cell_type": "code",
      "source": [
        "positive = twitter_samples.strings('positive_tweets.json')\n",
        "negative = twitter_samples.strings('negative_tweets.json')"
      ],
      "metadata": {
        "id": "VmlJYOIme4uM"
      },
      "execution_count": null,
      "outputs": []
    },
    {
      "cell_type": "code",
      "source": [
        "print('Number of positive tweets: ', len(positive))\n",
        "print('Number of negative tweets: ', len(negative))\n"
      ],
      "metadata": {
        "colab": {
          "base_uri": "https://localhost:8080/"
        },
        "id": "YwsNVf1PfVVs",
        "outputId": "9baa52a0-2feb-4d97-b054-d11a3e604cfc"
      },
      "execution_count": null,
      "outputs": [
        {
          "output_type": "stream",
          "name": "stdout",
          "text": [
            "Number of positive tweets:  5000\n",
            "Number of negative tweets:  5000\n"
          ]
        }
      ]
    },
    {
      "cell_type": "code",
      "source": [
        "print(type(positive))\n",
        "print(type(negative))"
      ],
      "metadata": {
        "colab": {
          "base_uri": "https://localhost:8080/"
        },
        "id": "tbcgH0sKfwtm",
        "outputId": "5787b486-d8c4-428c-9661-112778cc734a"
      },
      "execution_count": null,
      "outputs": [
        {
          "output_type": "stream",
          "name": "stdout",
          "text": [
            "<class 'list'>\n",
            "<class 'list'>\n"
          ]
        }
      ]
    },
    {
      "cell_type": "code",
      "source": [
        "fig = plt.figure(figsize=(2,2))\n",
        "labels = 'Positives', 'Negative'\n",
        "sizes = [len(positive), len(negative)]\n",
        "plt.pie(sizes, labels=labels, autopct='%1.0f%%',shadow=False, startangle=90)\n",
        "plt.axis('equal')\n",
        "\n",
        "plt.show()"
      ],
      "metadata": {
        "colab": {
          "base_uri": "https://localhost:8080/",
          "height": 191
        },
        "id": "ohU5s1XygHV7",
        "outputId": "dd178263-58f2-43fb-94dc-a83af06b30d2"
      },
      "execution_count": null,
      "outputs": [
        {
          "output_type": "display_data",
          "data": {
            "text/plain": [
              "<Figure size 200x200 with 1 Axes>"
            ],
            "image/png": "[encoded data removed]"
          },
          "metadata": {}
        }
      ]
    },
    {
      "cell_type": "code",
      "source": [
        "print('\\033[92m'+ positive[random.randint(0,5000)])"
      ],
      "metadata": {
        "colab": {
          "base_uri": "https://localhost:8080/"
        },
        "id": "9l23SFR-gQ7Y",
        "outputId": "c22eb081-0310-4ae8-8e9a-ae1dd221ae44"
      },
      "execution_count": null,
      "outputs": [
        {
          "output_type": "stream",
          "name": "stdout",
          "text": [
            "\u001b[92m#nsn_supplements, Effective press release distribution with results! :) [link removed] #PressRelease #NewsDistribution\n"
          ]
        }
      ]
    },
    {
      "cell_type": "code",
      "source": [
        "print('\\033[91m'+ negative[random.randint(0,5000)])"
      ],
      "metadata": {
        "colab": {
          "base_uri": "https://localhost:8080/"
        },
        "id": "qfTKm2C_k6rR",
        "outputId": "924e6cd7-f85d-4c2d-a339-012b071e80f1"
      },
      "execution_count": null,
      "outputs": [
        {
          "output_type": "stream",
          "name": "stdout",
          "text": [
            "\u001b[91mI wish more people did 11:11s for me :(\n"
          ]
        }
      ]
    },
    {
      "cell_type": "markdown",
      "source": [
        "**Preprocessing**\n",
        "1. Tokenizing the string\n",
        "2. Lowercasing\n",
        "3. Removing stop words and punctuation\n",
        "4. Stemming"
      ],
      "metadata": {
        "id": "MvKPXQC0nE5D"
      }
    },
    {
      "cell_type": "code",
      "source": [
        "tweet = positive[2277]\n",
        "print(tweet)"
      ],
      "metadata": {
        "colab": {
          "base_uri": "https://localhost:8080/"
        },
        "id": "_r7lBNjtlCTB",
        "outputId": "e5b6423b-9406-4145-b9e7-f09592ee2a3d"
      },
      "execution_count": null,
      "outputs": [
        {
          "output_type": "stream",
          "name": "stdout",
          "text": [
            "My beautiful sunflowers on a sunny Friday morning off :) #sunflowers #favourites #happy #Friday off… https://t.co/3tfYom0N1i\n"
          ]
        }
      ]
    },
    {
      "cell_type": "code",
      "source": [
        "nltk.download('stopwords')"
      ],
      "metadata": {
        "colab": {
          "base_uri": "https://localhost:8080/"
        },
        "id": "ggxWY1Vtnwql",
        "outputId": "cc877257-06fa-4695-d26d-75895919f777"
      },
      "execution_count": null,
      "outputs": [
        {
          "output_type": "stream",
          "name": "stderr",
          "text": [
            "[nltk_data] Downloading package stopwords to /root/nltk_data...\n",
            "[nltk_data]   Package stopwords is already up-to-date!\n"
          ]
        },
        {
          "output_type": "execute_result",
          "data": {
            "text/plain": [
              "True"
            ]
          },
          "metadata": {},
          "execution_count": 78
        }
      ]
    },
    {
      "cell_type": "code",
      "source": [
        "import re\n",
        "import string\n",
        "\n",
        "from nltk.corpus import stopwords          # module for stop words that come with NLTK\n",
        "from nltk.stem import PorterStemmer        # module for stemming\n",
        "from nltk.tokenize import TweetTokenizer   # module for tokenizing strings"
      ],
      "metadata": {
        "id": "LTX3d24en37R"
      },
      "execution_count": null,
      "outputs": []
    },
    {
      "cell_type": "code",
      "source": [
        "print('\\033[92m' + tweet)\n"
      ],
      "metadata": {
        "colab": {
          "base_uri": "https://localhost:8080/"
        },
        "id": "jt6p7Fd1oDw8",
        "outputId": "e07b5782-8009-4eab-d4d5-99efc1510149"
      },
      "execution_count": null,
      "outputs": [
        {
          "output_type": "stream",
          "name": "stdout",
          "text": [
            "\u001b[92mMy beautiful sunflowers on a sunny Friday morning off :) #sunflowers #favourites #happy #Friday off… https://t.co/3tfYom0N1i\n"
          ]
        }
      ]
    },
    {
      "cell_type": "markdown",
      "source": [
        "Removing Hyperlinks , hastags"
      ],
      "metadata": {
        "id": "tdm5nv_hj2ua"
      }
    },
    {
      "cell_type": "code",
      "source": [
        "tweet2 = re.sub(r'^RT[\\s]+', '', tweet)"
      ],
      "metadata": {
        "id": "B0S6TSv8iwtM"
      },
      "execution_count": null,
      "outputs": []
    },
    {
      "cell_type": "code",
      "source": [
        "print(tweet2)"
      ],
      "metadata": {
        "colab": {
          "base_uri": "https://localhost:8080/"
        },
        "id": "jaIEzCVhi4O7",
        "outputId": "e63f9c0b-d2ba-4583-883e-1d794b183ec0"
      },
      "execution_count": null,
      "outputs": [
        {
          "output_type": "stream",
          "name": "stdout",
          "text": [
            "My beautiful sunflowers on a sunny Friday morning off :) #sunflowers #favourites #happy #Friday off… https://t.co/3tfYom0N1i\n"
          ]
        }
      ]
    },
    {
      "cell_type": "code",
      "source": [
        "tweet2 = re.sub(r'https?://[^\\s\\n\\r]+', '', tweet2)\n",
        "\n",
        "# remove hashtags\n",
        "tweet2 = re.sub(r'[#@:!)]', '', tweet2)"
      ],
      "metadata": {
        "id": "7qX7Lcj1jNxR"
      },
      "execution_count": null,
      "outputs": []
    },
    {
      "cell_type": "code",
      "source": [
        "print(tweet2)"
      ],
      "metadata": {
        "colab": {
          "base_uri": "https://localhost:8080/"
        },
        "id": "2w-1xA-gjWGW",
        "outputId": "24312ffd-10e4-4790-e182-53ec44cbda3e"
      },
      "execution_count": null,
      "outputs": [
        {
          "output_type": "stream",
          "name": "stdout",
          "text": [
            "My beautiful sunflowers on a sunny Friday morning off  sunflowers favourites happy Friday off… \n"
          ]
        }
      ]
    },
    {
      "cell_type": "markdown",
      "source": [
        "Tokenization"
      ],
      "metadata": {
        "id": "OgcQOga6mIDj"
      }
    },
    {
      "cell_type": "code",
      "source": [
        "print('\\033[92m' + tweet2)"
      ],
      "metadata": {
        "colab": {
          "base_uri": "https://localhost:8080/"
        },
        "id": "bdVJ5D6djalR",
        "outputId": "33ead3cc-d11b-4844-81a9-685ab05bf4b4"
      },
      "execution_count": null,
      "outputs": [
        {
          "output_type": "stream",
          "name": "stdout",
          "text": [
            "\u001b[92mMy beautiful sunflowers on a sunny Friday morning off  sunflowers favourites happy Friday off… \n"
          ]
        }
      ]
    },
    {
      "cell_type": "code",
      "source": [
        "tokenizer = TweetTokenizer(preserve_case = False,reduce_len=True,strip_handles=True)"
      ],
      "metadata": {
        "id": "fP_mvIucmTKK"
      },
      "execution_count": null,
      "outputs": []
    },
    {
      "cell_type": "code",
      "source": [
        "token = tokenizer.tokenize(tweet2)\n",
        "print(token)"
      ],
      "metadata": {
        "colab": {
          "base_uri": "https://localhost:8080/"
        },
        "id": "5mseTDL21mMq",
        "outputId": "c4f238b5-c8ad-4f25-b60f-681621d62c97"
      },
      "execution_count": null,
      "outputs": [
        {
          "output_type": "stream",
          "name": "stdout",
          "text": [
            "['my', 'beautiful', 'sunflowers', 'on', 'a', 'sunny', 'friday', 'morning', 'off', 'sunflowers', 'favourites', 'happy', 'friday', 'off', '…']\n"
          ]
        }
      ]
    },
    {
      "cell_type": "markdown",
      "source": [
        "Removing stopwords and punctuations"
      ],
      "metadata": {
        "id": "nOFCAOsh3JjF"
      }
    },
    {
      "cell_type": "code",
      "source": [
        "st = stopwords.words('english')\n",
        "print(st)"
      ],
      "metadata": {
        "colab": {
          "base_uri": "https://localhost:8080/"
        },
        "id": "tPcZxX-j2r5I",
        "outputId": "46f9d678-e610-43bd-ca00-59403b7d2f27"
      },
      "execution_count": null,
      "outputs": [
        {
          "output_type": "stream",
          "name": "stdout",
          "text": [
            "['i', 'me', 'my', 'myself', 'we', 'our', 'ours', 'ourselves', 'you', \"you're\", \"you've\", \"you'll\", \"you'd\", 'your', 'yours', 'yourself', 'yourselves', 'he', 'him', 'his', 'himself', 'she', \"she's\", 'her', 'hers', 'herself', 'it', \"it's\", 'its', 'itself', 'they', 'them', 'their', 'theirs', 'themselves', 'what', 'which', 'who', 'whom', 'this', 'that', \"that'll\", 'these', 'those', 'am', 'is', 'are', 'was', 'were', 'be', 'been', 'being', 'have', 'has', 'had', 'having', 'do', 'does', 'did', 'doing', 'a', 'an', 'the', 'and', 'but', 'if', 'or', 'because', 'as', 'until', 'while', 'of', 'at', 'by', 'for', 'with', 'about', 'against', 'between', 'into', 'through', 'during', 'before', 'after', 'above', 'below', 'to', 'from', 'up', 'down', 'in', 'out', 'on', 'off', 'over', 'under', 'again', 'further', 'then', 'once', 'here', 'there', 'when', 'where', 'why', 'how', 'all', 'any', 'both', 'each', 'few', 'more', 'most', 'other', 'some', 'such', 'no', 'nor', 'not', 'only', 'own', 'same', 'so', 'than', 'too', 'very', 's', 't', 'can', 'will', 'just', 'don', \"don't\", 'should', \"should've\", 'now', 'd', 'll', 'm', 'o', 're', 've', 'y', 'ain', 'aren', \"aren't\", 'couldn', \"couldn't\", 'didn', \"didn't\", 'doesn', \"doesn't\", 'hadn', \"hadn't\", 'hasn', \"hasn't\", 'haven', \"haven't\", 'isn', \"isn't\", 'ma', 'mightn', \"mightn't\", 'mustn', \"mustn't\", 'needn', \"needn't\", 'shan', \"shan't\", 'shouldn', \"shouldn't\", 'wasn', \"wasn't\", 'weren', \"weren't\", 'won', \"won't\", 'wouldn', \"wouldn't\"]\n"
          ]
        }
      ]
    },
    {
      "cell_type": "code",
      "source": [
        "print('\\033[92m')\n",
        "print(token)"
      ],
      "metadata": {
        "colab": {
          "base_uri": "https://localhost:8080/"
        },
        "id": "H-fzrMu93Z2E",
        "outputId": "729883f9-4402-43fc-a628-99d13b9d3a7a"
      },
      "execution_count": null,
      "outputs": [
        {
          "output_type": "stream",
          "name": "stdout",
          "text": [
            "\u001b[92m\n",
            "['my', 'beautiful', 'sunflowers', 'on', 'a', 'sunny', 'friday', 'morning', 'off', 'sunflowers', 'favourites', 'happy', 'friday', 'off', '…']\n"
          ]
        }
      ]
    },
    {
      "cell_type": "code",
      "source": [
        "t=[]\n",
        "for word in token:\n",
        "  if(word not in st) and (word not in string.punctuation):\n",
        "    t.append(word)\n",
        "print(t)"
      ],
      "metadata": {
        "colab": {
          "base_uri": "https://localhost:8080/"
        },
        "id": "StJePSVE4GoU",
        "outputId": "b9cd0e53-4e09-4258-c5f8-008ad1a86116"
      },
      "execution_count": null,
      "outputs": [
        {
          "output_type": "stream",
          "name": "stdout",
          "text": [
            "['beautiful', 'sunflowers', 'sunny', 'friday', 'morning', 'sunflowers', 'favourites', 'happy', 'friday', '…']\n"
          ]
        }
      ]
    },
    {
      "cell_type": "markdown",
      "source": [
        "Stemming"
      ],
      "metadata": {
        "id": "pJZwFeFS5npW"
      }
    },
    {
      "cell_type": "code",
      "source": [
        "stemmer = PorterStemmer()\n",
        "stem = []\n",
        "for word in t:\n",
        "  stemmed = stemmer.stem(word)\n",
        "  stem.append(stemmed)\n",
        "\n",
        "print(stem)"
      ],
      "metadata": {
        "colab": {
          "base_uri": "https://localhost:8080/"
        },
        "id": "1rw3LZgA43pR",
        "outputId": "96175c61-3165-4d8f-a6a4-58e596bd5308"
      },
      "execution_count": null,
      "outputs": [
        {
          "output_type": "stream",
          "name": "stdout",
          "text": [
            "['beauti', 'sunflow', 'sunni', 'friday', 'morn', 'sunflow', 'favourit', 'happi', 'friday', '…']\n"
          ]
        }
      ]
    },
    {
      "cell_type": "markdown",
      "source": [
        "\n",
        "Processing"
      ],
      "metadata": {
        "id": "v9T37eM07QwT"
      }
    },
    {
      "cell_type": "code",
      "source": [
        "!pip uninstall utils\n",
        "!pip install utils\n",
        "\n"
      ],
      "metadata": {
        "colab": {
          "base_uri": "https://localhost:8080/",
          "height": 312
        },
        "id": "5BLBtv1Q9mnK",
        "outputId": "c9ad7891-2846-45d7-b205-787f6c8268e4"
      },
      "execution_count": null,
      "outputs": [
        {
          "output_type": "stream",
          "name": "stdout",
          "text": [
            "Found existing installation: utils 1.0.1\n",
            "Uninstalling utils-1.0.1:\n",
            "  Would remove:\n",
            "    /usr/local/lib/python3.10/dist-packages/tests/*\n",
            "    /usr/local/lib/python3.10/dist-packages/utils-1.0.1.dist-info/*\n",
            "    /usr/local/lib/python3.10/dist-packages/utils/*\n",
            "Proceed (Y/n)? Y\n",
            "  Successfully uninstalled utils-1.0.1\n",
            "Collecting utils\n",
            "  Using cached utils-1.0.1-py2.py3-none-any.whl (21 kB)\n",
            "Installing collected packages: utils\n",
            "Successfully installed utils-1.0.1\n"
          ]
        },
        {
          "output_type": "display_data",
          "data": {
            "application/vnd.colab-display-data+json": {
              "pip_warning": {
                "packages": [
                  "utils"
                ]
              }
            }
          },
          "metadata": {}
        }
      ]
    },
    {
      "cell_type": "code",
      "source": [
        "def process_tweet(tweet):\n",
        "  stemmer = PorterStemmer()\n",
        "  stopwords_english = stopwords.words('english')\n",
        "  tweet = re.sub(r'\\$\\w*', '', tweet)\n",
        "  tweet = re.sub(r'^RT[\\s]+', '', tweet)\n",
        "  tweet = re.sub(r'https?:\\/\\/.*[\\r\\n]*', '', tweet)\n",
        "  tweet = re.sub(r'#', '', tweet)\n",
        "  tokenizer = TweetTokenizer(preserve_case=False,strip_handles=True,reduce_len=True)\n",
        "  tweet_tokens = tokenizer.tokenize(tweet)\n",
        "\n",
        "  tweets_clean = []\n",
        "  for word in tweet_tokens:\n",
        "      if (word not in stopwords_english and\n",
        "              word not in string.punctuation):\n",
        "          stem_word = stemmer.stem(word)  # stemming word\n",
        "          tweets_clean.append(stem_word)\n",
        "\n",
        "  return tweets_clean"
      ],
      "metadata": {
        "id": "n3on-ViA6q1b"
      },
      "execution_count": null,
      "outputs": []
    },
    {
      "cell_type": "code",
      "source": [
        "import numpy as np\n"
      ],
      "metadata": {
        "id": "zwFj9w0TFCsd"
      },
      "execution_count": null,
      "outputs": []
    },
    {
      "cell_type": "code",
      "source": [
        "m = positive+negative\n",
        "print(len(m))"
      ],
      "metadata": {
        "colab": {
          "base_uri": "https://localhost:8080/"
        },
        "id": "LPeDRXzaIAWo",
        "outputId": "cbf85afb-b2b1-4500-c400-67ab56683abe"
      },
      "execution_count": null,
      "outputs": [
        {
          "output_type": "stream",
          "name": "stdout",
          "text": [
            "10000\n"
          ]
        }
      ]
    },
    {
      "cell_type": "code",
      "source": [
        "def build_freqs(tweets, ys):\n",
        "    \"\"\"Build frequencies.\n",
        "    Input:\n",
        "        tweets: a list of tweets\n",
        "        ys: an m x 1 array with the sentiment label of each tweet (either 0 or 1)\n",
        "    Output:\n",
        "        freqs: a dictionary mapping each (word, sentiment) pair to its frequency\n",
        "    \"\"\"\n",
        "    # Convert np array to list since zip needs an iterable.\n",
        "    # The squeeze is necessary or the list ends up with one element.\n",
        "    # Also note that this is just a NOP if ys is already a list.\n",
        "    yslist = np.squeeze(ys).tolist()\n",
        "\n",
        "    # Start with an empty dictionary and populate it by looping over all tweets\n",
        "    # and over all processed words in each tweet.\n",
        "    freqs = {}\n",
        "    for y, tweet in zip(yslist, tweets):\n",
        "        for word in process_tweet(tweet):\n",
        "            pair = (word, y)\n",
        "            if pair in freqs:\n",
        "                freqs[pair] += 1\n",
        "            else:\n",
        "                freqs[pair] = 1\n",
        "\n",
        "    return freqs"
      ],
      "metadata": {
        "id": "CJyU45QgDQeg"
      },
      "execution_count": null,
      "outputs": []
    },
    {
      "cell_type": "markdown",
      "source": [
        "**process_tweet()**: Cleans the text, tokenizes it into separate words, removes stopwords, and converts words to stems.\n",
        "\n",
        "**build_freqs()**: This counts how often a word in the 'corpus' (the entire set of tweets) was associated with a positive label 1 or a negative label 0. It then builds the freqs dictionary, where each key is a (word,label) tuple, and the value is the count of its frequency within the corpus of tweets."
      ],
      "metadata": {
        "id": "ngFQc11gCtg_"
      }
    },
    {
      "cell_type": "code",
      "source": [
        "freqs = build_freqs(m,labels)"
      ],
      "metadata": {
        "id": "RhFWW0509pT3"
      },
      "execution_count": null,
      "outputs": []
    },
    {
      "cell_type": "code",
      "source": [],
      "metadata": {
        "id": "AuJ2aHIVOGfN"
      },
      "execution_count": null,
      "outputs": []
    }
  ]
}